{
 "cells": [
  {
   "cell_type": "code",
   "execution_count": 1,
   "metadata": {},
   "outputs": [
    {
     "data": {
      "text/html": [
       "<style>.container { width:95% !important; }</style>"
      ],
      "text/plain": [
       "<IPython.core.display.HTML object>"
      ]
     },
     "metadata": {},
     "output_type": "display_data"
    },
    {
     "name": "stdout",
     "output_type": "stream",
     "text": [
      "C:\\Users\\idstwy\\Desktop\\SSHSPH\\SPH6004 Advanced Statistical Learning\\Assignment\\Group\\Codes\n"
     ]
    }
   ],
   "source": [
    "from IPython.core.display import display, HTML\n",
    "display(HTML(\"<style>.container { width:95% !important; }</style>\"))\n",
    "\n",
    "import sys\n",
    "import os\n",
    "\n",
    "from IPython import display\n",
    "from time import time\n",
    "from collections import Counter\n",
    "import numpy as np\n",
    "import pandas as pd\n",
    "from pandas import read_csv\n",
    "from datetime import datetime\n",
    "pd.set_option('display.max_columns', None)\n",
    "pd.set_option('display.max_rows', None)\n",
    "\n",
    "import matplotlib.pyplot as plt\n",
    "import seaborn as sns\n",
    "sns.set() \n",
    "sns.set_style('white') \n",
    "\n",
    "#!pip install tableone\n",
    "from tableone import TableOne, load_dataset\n",
    "\n",
    "import warnings\n",
    "warnings.filterwarnings('ignore')\n",
    "\n",
    "print(os.getcwd())"
   ]
  },
  {
   "cell_type": "code",
   "execution_count": 4,
   "metadata": {},
   "outputs": [
    {
     "name": "stdout",
     "output_type": "stream",
     "text": [
      "(731247, 26)\n"
     ]
    },
    {
     "data": {
      "text/html": [
       "<div>\n",
       "<style scoped>\n",
       "    .dataframe tbody tr th:only-of-type {\n",
       "        vertical-align: middle;\n",
       "    }\n",
       "\n",
       "    .dataframe tbody tr th {\n",
       "        vertical-align: top;\n",
       "    }\n",
       "\n",
       "    .dataframe thead th {\n",
       "        text-align: right;\n",
       "    }\n",
       "</style>\n",
       "<table border=\"1\" class=\"dataframe\">\n",
       "  <thead>\n",
       "    <tr style=\"text-align: right;\">\n",
       "      <th></th>\n",
       "      <th>subject_id</th>\n",
       "      <th>hadm_id</th>\n",
       "      <th>stay_id</th>\n",
       "      <th>starttime</th>\n",
       "      <th>endtime</th>\n",
       "      <th>storetime</th>\n",
       "      <th>itemid</th>\n",
       "      <th>value</th>\n",
       "      <th>valueuom</th>\n",
       "      <th>location</th>\n",
       "      <th>locationcategory</th>\n",
       "      <th>orderid</th>\n",
       "      <th>linkorderid</th>\n",
       "      <th>ordercategoryname</th>\n",
       "      <th>secondaryordercategoryname</th>\n",
       "      <th>ordercategorydescription</th>\n",
       "      <th>patientweight</th>\n",
       "      <th>totalamount</th>\n",
       "      <th>totalamountuom</th>\n",
       "      <th>isopenbag</th>\n",
       "      <th>continueinnextdept</th>\n",
       "      <th>cancelreason</th>\n",
       "      <th>statusdescription</th>\n",
       "      <th>comments_date</th>\n",
       "      <th>originalamount</th>\n",
       "      <th>originalrate</th>\n",
       "    </tr>\n",
       "  </thead>\n",
       "  <tbody>\n",
       "    <tr>\n",
       "      <th>0</th>\n",
       "      <td>15693895</td>\n",
       "      <td>21203492</td>\n",
       "      <td>30500789</td>\n",
       "      <td>2147-06-05 11:25:00</td>\n",
       "      <td>2147-06-05 11:26:00</td>\n",
       "      <td>2147-06-06 11:25:00</td>\n",
       "      <td>225399</td>\n",
       "      <td>1.0</td>\n",
       "      <td>None</td>\n",
       "      <td>NaN</td>\n",
       "      <td>NaN</td>\n",
       "      <td>6591564</td>\n",
       "      <td>6591564</td>\n",
       "      <td>Procedures</td>\n",
       "      <td>NaN</td>\n",
       "      <td>Task</td>\n",
       "      <td>80.0</td>\n",
       "      <td>NaN</td>\n",
       "      <td>NaN</td>\n",
       "      <td>0</td>\n",
       "      <td>0</td>\n",
       "      <td>0</td>\n",
       "      <td>FinishedRunning</td>\n",
       "      <td>NaN</td>\n",
       "      <td>1.0</td>\n",
       "      <td>0</td>\n",
       "    </tr>\n",
       "    <tr>\n",
       "      <th>1</th>\n",
       "      <td>15693895</td>\n",
       "      <td>21203492</td>\n",
       "      <td>30500789</td>\n",
       "      <td>2147-06-05 22:00:00</td>\n",
       "      <td>2147-06-05 22:01:00</td>\n",
       "      <td>2147-06-06 11:25:00</td>\n",
       "      <td>224385</td>\n",
       "      <td>1.0</td>\n",
       "      <td>None</td>\n",
       "      <td>NaN</td>\n",
       "      <td>NaN</td>\n",
       "      <td>1706064</td>\n",
       "      <td>1706064</td>\n",
       "      <td>Intubation/Extubation</td>\n",
       "      <td>NaN</td>\n",
       "      <td>Task</td>\n",
       "      <td>80.0</td>\n",
       "      <td>NaN</td>\n",
       "      <td>NaN</td>\n",
       "      <td>0</td>\n",
       "      <td>0</td>\n",
       "      <td>0</td>\n",
       "      <td>FinishedRunning</td>\n",
       "      <td>NaN</td>\n",
       "      <td>1.0</td>\n",
       "      <td>0</td>\n",
       "    </tr>\n",
       "    <tr>\n",
       "      <th>2</th>\n",
       "      <td>12481680</td>\n",
       "      <td>26876606</td>\n",
       "      <td>30863119</td>\n",
       "      <td>2141-01-23 12:00:00</td>\n",
       "      <td>2141-01-23 18:33:00</td>\n",
       "      <td>2141-01-23 18:33:51.14</td>\n",
       "      <td>224275</td>\n",
       "      <td>393.0</td>\n",
       "      <td>min</td>\n",
       "      <td>NaN</td>\n",
       "      <td>NaN</td>\n",
       "      <td>8373796</td>\n",
       "      <td>8373796</td>\n",
       "      <td>Peripheral Lines</td>\n",
       "      <td>NaN</td>\n",
       "      <td>ContinuousProcess</td>\n",
       "      <td>123.0</td>\n",
       "      <td>NaN</td>\n",
       "      <td>NaN</td>\n",
       "      <td>1</td>\n",
       "      <td>0</td>\n",
       "      <td>0</td>\n",
       "      <td>FinishedRunning</td>\n",
       "      <td>NaN</td>\n",
       "      <td>393.0</td>\n",
       "      <td>1</td>\n",
       "    </tr>\n",
       "  </tbody>\n",
       "</table>\n",
       "</div>"
      ],
      "text/plain": [
       "   subject_id   hadm_id   stay_id            starttime              endtime  \\\n",
       "0    15693895  21203492  30500789  2147-06-05 11:25:00  2147-06-05 11:26:00   \n",
       "1    15693895  21203492  30500789  2147-06-05 22:00:00  2147-06-05 22:01:00   \n",
       "2    12481680  26876606  30863119  2141-01-23 12:00:00  2141-01-23 18:33:00   \n",
       "\n",
       "                storetime  itemid  value valueuom location locationcategory  \\\n",
       "0     2147-06-06 11:25:00  225399    1.0     None      NaN              NaN   \n",
       "1     2147-06-06 11:25:00  224385    1.0     None      NaN              NaN   \n",
       "2  2141-01-23 18:33:51.14  224275  393.0      min      NaN              NaN   \n",
       "\n",
       "   orderid  linkorderid      ordercategoryname  secondaryordercategoryname  \\\n",
       "0  6591564      6591564             Procedures                         NaN   \n",
       "1  1706064      1706064  Intubation/Extubation                         NaN   \n",
       "2  8373796      8373796       Peripheral Lines                         NaN   \n",
       "\n",
       "  ordercategorydescription  patientweight  totalamount  totalamountuom  \\\n",
       "0                     Task           80.0          NaN             NaN   \n",
       "1                     Task           80.0          NaN             NaN   \n",
       "2        ContinuousProcess          123.0          NaN             NaN   \n",
       "\n",
       "   isopenbag  continueinnextdept  cancelreason statusdescription  \\\n",
       "0          0                   0             0   FinishedRunning   \n",
       "1          0                   0             0   FinishedRunning   \n",
       "2          1                   0             0   FinishedRunning   \n",
       "\n",
       "   comments_date  originalamount  originalrate  \n",
       "0            NaN             1.0             0  \n",
       "1            NaN             1.0             0  \n",
       "2            NaN           393.0             1  "
      ]
     },
     "execution_count": 4,
     "metadata": {},
     "output_type": "execute_result"
    }
   ],
   "source": [
    "#==============\n",
    "#read data files\n",
    "#==============\n",
    "raw = pd.read_csv(r'C:\\Users\\idstwy\\Desktop\\SSHSPH\\SPH6004 Advanced Statistical Learning\\Assignment\\Group\\Data\\SSHSPH_AdvBioStat_AKI\\procedureevents.csv.gz', compression='gzip',\n",
    "                   error_bad_lines=False) #nrows=100,\n",
    "print(raw.shape)\n",
    "raw.head(3)"
   ]
  },
  {
   "cell_type": "code",
   "execution_count": 5,
   "metadata": {},
   "outputs": [
    {
     "data": {
      "text/plain": [
       "Index(['subject_id', 'hadm_id', 'stay_id', 'starttime', 'endtime', 'storetime',\n",
       "       'itemid', 'value', 'valueuom', 'location', 'locationcategory',\n",
       "       'orderid', 'linkorderid', 'ordercategoryname',\n",
       "       'secondaryordercategoryname', 'ordercategorydescription',\n",
       "       'patientweight', 'totalamount', 'totalamountuom', 'isopenbag',\n",
       "       'continueinnextdept', 'cancelreason', 'statusdescription',\n",
       "       'comments_date', 'originalamount', 'originalrate'],\n",
       "      dtype='object')"
      ]
     },
     "execution_count": 5,
     "metadata": {},
     "output_type": "execute_result"
    }
   ],
   "source": [
    "raw.columns"
   ]
  },
  {
   "cell_type": "code",
   "execution_count": 35,
   "metadata": {},
   "outputs": [
    {
     "name": "stdout",
     "output_type": "stream",
     "text": [
      "(731247, 7) (67977, 7)\n"
     ]
    }
   ],
   "source": [
    "selectCols=[\"stay_id\", 'starttime', 'endtime', 'orderid',\"ordercategoryname\"]\n",
    "raw1 = raw[selectCols]\n",
    "raw1[\"Procedure_Intubation_Extubation\"] = np.where(raw1[\"ordercategoryname\"] == \"Intubation/Extubation\",1,0)\n",
    "raw1[\"Procedure_Ventilation\"] = np.where(raw1[\"ordercategoryname\"] == \"Ventilation\",1,0)\n",
    "#raw1.to_csv(r'C:\\Users\\idstwy\\Desktop\\SSHSPH\\SPH6004 Advanced Statistical Learning\\Assignment\\Group\\Data\\SSHSPH_AdvBioStat_AKI\\procedure_Intub_Venti.csv', index=False)\n",
    "raw2 =raw1[(raw1[\"Procedure_Ventilation\"]==1) | (raw1[\"Procedure_Intubation_Extubation\"]==1)]\n",
    "print(raw1.shape, raw2.shape)"
   ]
  },
  {
   "cell_type": "code",
   "execution_count": 36,
   "metadata": {},
   "outputs": [
    {
     "name": "stdout",
     "output_type": "stream",
     "text": [
      "(67977, 6)\n"
     ]
    },
    {
     "data": {
      "text/html": [
       "<div>\n",
       "<style scoped>\n",
       "    .dataframe tbody tr th:only-of-type {\n",
       "        vertical-align: middle;\n",
       "    }\n",
       "\n",
       "    .dataframe tbody tr th {\n",
       "        vertical-align: top;\n",
       "    }\n",
       "\n",
       "    .dataframe thead th {\n",
       "        text-align: right;\n",
       "    }\n",
       "</style>\n",
       "<table border=\"1\" class=\"dataframe\">\n",
       "  <thead>\n",
       "    <tr style=\"text-align: right;\">\n",
       "      <th></th>\n",
       "      <th>stay_id</th>\n",
       "      <th>starttime</th>\n",
       "      <th>chartDate</th>\n",
       "      <th>chartHour</th>\n",
       "      <th>Procedure_Intubation_Extubation</th>\n",
       "      <th>Procedure_Ventilation</th>\n",
       "    </tr>\n",
       "  </thead>\n",
       "  <tbody>\n",
       "    <tr>\n",
       "      <th>0</th>\n",
       "      <td>30000153</td>\n",
       "      <td>2174-09-29 12:00:00</td>\n",
       "      <td>2174-09-29</td>\n",
       "      <td>12</td>\n",
       "      <td>0.000000</td>\n",
       "      <td>5.716667</td>\n",
       "    </tr>\n",
       "    <tr>\n",
       "      <th>1</th>\n",
       "      <td>30000153</td>\n",
       "      <td>2174-09-29 17:43:00</td>\n",
       "      <td>2174-09-29</td>\n",
       "      <td>17</td>\n",
       "      <td>0.016667</td>\n",
       "      <td>0.000000</td>\n",
       "    </tr>\n",
       "    <tr>\n",
       "      <th>2</th>\n",
       "      <td>30000213</td>\n",
       "      <td>2162-06-21 06:00:00</td>\n",
       "      <td>2162-06-21</td>\n",
       "      <td>6</td>\n",
       "      <td>0.000000</td>\n",
       "      <td>26.900000</td>\n",
       "    </tr>\n",
       "  </tbody>\n",
       "</table>\n",
       "</div>"
      ],
      "text/plain": [
       "    stay_id           starttime   chartDate  chartHour  \\\n",
       "0  30000153 2174-09-29 12:00:00  2174-09-29         12   \n",
       "1  30000153 2174-09-29 17:43:00  2174-09-29         17   \n",
       "2  30000213 2162-06-21 06:00:00  2162-06-21          6   \n",
       "\n",
       "   Procedure_Intubation_Extubation  Procedure_Ventilation  \n",
       "0                         0.000000               5.716667  \n",
       "1                         0.016667               0.000000  \n",
       "2                         0.000000              26.900000  "
      ]
     },
     "execution_count": 36,
     "metadata": {},
     "output_type": "execute_result"
    }
   ],
   "source": [
    "raw2['starttime'] = pd.to_datetime(raw2['starttime'])\n",
    "raw2['endtime'] = pd.to_datetime(raw2['endtime'])\n",
    "raw2['duration_hrs'] = (raw2[\"endtime\"] - raw2[\"starttime\"]) / pd.Timedelta(hours=1)\n",
    "raw2['Procedure_Ventilation'] = np.where(raw2['Procedure_Ventilation']==1,raw2['duration_hrs'],0)\n",
    "raw2['Procedure_Intubation_Extubation'] = np.where(raw2['Procedure_Intubation_Extubation']==1,raw2['duration_hrs'],0)\n",
    "\n",
    "raw2['chartDate'] = raw2['starttime'].dt.date\n",
    "raw2['chartHour'] = raw2['starttime'].dt.hour\n",
    "raw2 = raw2.drop(columns=['orderid',\"ordercategoryname\", \"endtime\"])\n",
    "raw2 = raw2 [['stay_id', 'starttime', 'chartDate','chartHour', 'Procedure_Intubation_Extubation', 'Procedure_Ventilation']]\n",
    "raw2 = raw2.sort_values(by=[\"stay_id\", \"starttime\"])\n",
    "raw2 = raw2.reset_index(drop=True)\n",
    "#raw2.to_csv(r'C:\\Users\\idstwy\\Desktop\\SSHSPH\\SPH6004 Advanced Statistical Learning\\Assignment\\Group\\Data\\SSHSPH_AdvBioStat_AKI\\procedure_Intub_Venti.csv', index=False)\n",
    "print(raw2.shape)\n",
    "raw2.head(3)"
   ]
  },
  {
   "cell_type": "code",
   "execution_count": null,
   "metadata": {},
   "outputs": [],
   "source": []
  }
 ],
 "metadata": {
  "kernelspec": {
   "display_name": "Python 3",
   "language": "python",
   "name": "python3"
  },
  "language_info": {
   "codemirror_mode": {
    "name": "ipython",
    "version": 3
   },
   "file_extension": ".py",
   "mimetype": "text/x-python",
   "name": "python",
   "nbconvert_exporter": "python",
   "pygments_lexer": "ipython3",
   "version": "3.7.6"
  },
  "toc": {
   "base_numbering": 1,
   "nav_menu": {},
   "number_sections": true,
   "sideBar": true,
   "skip_h1_title": false,
   "title_cell": "Table of Contents",
   "title_sidebar": "Contents",
   "toc_cell": false,
   "toc_position": {},
   "toc_section_display": true,
   "toc_window_display": false
  },
  "varInspector": {
   "cols": {
    "lenName": 16,
    "lenType": 16,
    "lenVar": 40
   },
   "kernels_config": {
    "python": {
     "delete_cmd_postfix": "",
     "delete_cmd_prefix": "del ",
     "library": "var_list.py",
     "varRefreshCmd": "print(var_dic_list())"
    },
    "r": {
     "delete_cmd_postfix": ") ",
     "delete_cmd_prefix": "rm(",
     "library": "var_list.r",
     "varRefreshCmd": "cat(var_dic_list()) "
    }
   },
   "types_to_exclude": [
    "module",
    "function",
    "builtin_function_or_method",
    "instance",
    "_Feature"
   ],
   "window_display": false
  }
 },
 "nbformat": 4,
 "nbformat_minor": 4
}
